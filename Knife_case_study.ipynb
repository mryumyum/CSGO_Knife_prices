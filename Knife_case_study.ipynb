{
 "cells": [
  {
   "cell_type": "code",
   "execution_count": 1,
   "id": "6f0607f5",
   "metadata": {},
   "outputs": [],
   "source": [
    "import csv\n",
    "import json\n",
    "import sys\n",
    "import glob\n",
    "import os\n",
    "import pandas as pd\n",
    "import numpy as np\n",
    "import matplotlib.pyplot as plt\n",
    "from pathlib import Path\n",
    "from xgboost import XGBRFClassifier"
   ]
  },
  {
   "cell_type": "code",
   "execution_count": 2,
   "id": "59e6082a",
   "metadata": {},
   "outputs": [],
   "source": [
    "# Display multiple outputs instead of the last called one\n",
    "from IPython.core.interactiveshell import InteractiveShell\n",
    "InteractiveShell.ast_node_interactivity = \"all\""
   ]
  },
  {
   "cell_type": "code",
   "execution_count": null,
   "id": "820098be",
   "metadata": {},
   "outputs": [],
   "source": [
    "# Converts JSON to csv\n",
    "for curr_file in glob.glob(\".json\"):\n",
    "    df = pd.read_json(curr_file)\n",
    "    df.to_csv(f'{curr_file}.csv')"
   ]
  },
  {
   "cell_type": "code",
   "execution_count": null,
   "id": "5ab45faf",
   "metadata": {},
   "outputs": [],
   "source": [
    "# for filename in os.listdir(os.getcwd()): \n",
    "#     root, ext = os.path.splitext(filename) \n",
    "#     if ext == '.json':\n",
    "#         frame = pd.read_json(filename) \n",
    "#         frame.to_csv(root + '.csv', index=False)"
   ]
  },
  {
   "cell_type": "code",
   "execution_count": null,
   "id": "2e937941",
   "metadata": {},
   "outputs": [],
   "source": [
    "# for file in Path(indir).glob(\"*.csv\"):\n",
    "#     print(file)\n",
    "#     df = pd.read_csv(file, index_col = False)\n",
    "#     #df.drop('Purchase_Date', axis=1)\n",
    "#     df = pd.DataFrame(df)\n",
    "#     df.to_csv(file, columns = ['0','1','2'] ,index = False)"
   ]
  },
  {
   "cell_type": "code",
   "execution_count": null,
   "id": "8948b7ec",
   "metadata": {},
   "outputs": [],
   "source": [
    "# Cleans Data, convert datas to proper formet and dropped number sold that day\n",
    "indir = 'C:/Users/Zach/Desktop/Flachion Prices/csv'\n",
    "one_time = True\n",
    "for file in Path(indir).glob(\"*.csv\"):   \n",
    "    df = pd.read_csv(file, index_col = False)\n",
    "    df.columns = ['Date_Purchased', 'Price', 'Number_Sold_that_day']\n",
    "    df = pd.DataFrame(df)\n",
    "    df['Purchase_Date'] = df['Date_Purchased'].str[:11]\n",
    "    df.drop_duplicates(subset=['Purchase_Date'], inplace = True)\n",
    "    df.to_csv(file, columns = ['Purchase_Date', 'Price'], index = False)"
   ]
  },
  {
   "cell_type": "code",
   "execution_count": 11,
   "id": "c75649fc",
   "metadata": {},
   "outputs": [],
   "source": [
    "# Merges data\n",
    "path = 'C:/Users/Zach/Desktop/Flachion Prices/csv'\n",
    "all_files = glob.glob(os.path.join(path, \"*.csv\"))\n",
    "df = pd.concat((pd.read_csv(f) for f in all_files), ignore_index=True)\n",
    "df.to_csv(\"Merge_data_Proto.csv\", index = False)"
   ]
  },
  {
   "cell_type": "code",
   "execution_count": null,
   "id": "2310891f",
   "metadata": {},
   "outputs": [],
   "source": [
    "# Merges data, but also cleans it up a bit and renames columns to appropriate names\n",
    "path = 'C:/Users/Zach/Desktop/Flachion Prices/csv'\n",
    "df_init = pd.DataFrame()\n",
    "#all_files = glob.glob(os.path.join(path, \"*.csv\"))\n",
    "one_time = True\n",
    "for file in Path(path).glob(\"*.csv\"):\n",
    "    if one_time == True:\n",
    "        df_init = pd.read_csv(file, index_col = False)\n",
    "        df_init.rename(columns={'Price':str(file).split('\\\\')[-1][:-4]}, inplace=True)\n",
    "        one_time = False\n",
    "        continue\n",
    "    df = pd.read_csv(file, index_col = False)\n",
    "    df.rename(columns={'Price':str(file).split('\\\\')[-1][:-4]}, inplace=True)\n",
    "    df_init = df_init.merge(df, on = 'Purchase_Date', how = 'outer')\n",
    "    print(df_init[:1])\n",
    "    print(file)\n",
    "    #df.drop_duplicates(subset=['Purchase_Date'], inplace = True)\n",
    "    #df.to_csv(file, columns = ['Purchase_Date', 'Price'], index = False)\n",
    "df_init.to_csv('combined_data.csv', index = False)"
   ]
  },
  {
   "cell_type": "code",
   "execution_count": null,
   "id": "69289a5d",
   "metadata": {
    "scrolled": true
   },
   "outputs": [],
   "source": [
    "# Some Columns are percieved as text in other programs, converting all columns to float\n",
    "cb_df = pd.read_csv(\"Combined_Data.csv\")\n",
    "cb_df.apply(pd.to_numeric, errors='ignore', downcast='float')\n",
    "cb_df.to_csv('combined_data.csv', index = False)"
   ]
  },
  {
   "cell_type": "code",
   "execution_count": null,
   "id": "c5a743e0",
   "metadata": {},
   "outputs": [],
   "source": [
    "cbdf_info = cb_df.max()\n",
    "mins = cb_df.min()\n",
    "avg = cb_df.mean()\n",
    "std = cb_df.std()\n",
    "\n",
    "#cbdf_info = cb_df.merge(mins, on = 'Purchase_Date', how = 'outer')\n",
    "#cbdf_info = cb_df.merge(avg, on = 'Purchase_Date', how = 'outer')\n",
    "std"
   ]
  }
 ],
 "metadata": {
  "kernelspec": {
   "display_name": "Python 3 (ipykernel)",
   "language": "python",
   "name": "python3"
  },
  "language_info": {
   "codemirror_mode": {
    "name": "ipython",
    "version": 3
   },
   "file_extension": ".py",
   "mimetype": "text/x-python",
   "name": "python",
   "nbconvert_exporter": "python",
   "pygments_lexer": "ipython3",
   "version": "3.9.7"
  }
 },
 "nbformat": 4,
 "nbformat_minor": 5
}
